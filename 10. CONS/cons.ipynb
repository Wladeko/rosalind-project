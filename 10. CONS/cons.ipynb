{
 "cells": [
  {
   "cell_type": "code",
   "execution_count": 12,
   "id": "bf58352a",
   "metadata": {},
   "outputs": [],
   "source": [
    "import numpy as np"
   ]
  },
  {
   "cell_type": "code",
   "execution_count": 13,
   "id": "ae01f87f",
   "metadata": {},
   "outputs": [],
   "source": [
    "with open('rosalind_cons.txt') as f:\n",
    "    s_list = f.read().replace('\\n', '').split('>')[1:]\n",
    "    \n",
    "for i in range(len(s_list)):\n",
    "    s_list[i] = s_list[i][13:]"
   ]
  },
  {
   "cell_type": "code",
   "execution_count": 14,
   "id": "81c17748",
   "metadata": {},
   "outputs": [],
   "source": [
    "A = []\n",
    "C = []\n",
    "G = []\n",
    "T = []\n",
    "\n",
    "for i in range(len(s_list[0])):\n",
    "    a = 0\n",
    "    c = 0\n",
    "    g = 0\n",
    "    t = 0\n",
    "    for s in s_list:\n",
    "        if s[i] == 'A':\n",
    "            a+=1\n",
    "        elif s[i] == 'C':\n",
    "            c+=1\n",
    "        elif s[i] == 'G':\n",
    "            g+=1\n",
    "        elif s[i] == 'T':\n",
    "            t+=1\n",
    "    A.append(a)\n",
    "    C.append(c)\n",
    "    G.append(g)\n",
    "    T.append(t)\n",
    "    \n",
    "profile = np.matrix([A,C,G,T])"
   ]
  },
  {
   "cell_type": "code",
   "execution_count": 15,
   "id": "d328537e",
   "metadata": {},
   "outputs": [],
   "source": [
    "p = profile.tolist()\n",
    "matrix_output = ''\n",
    "matrix_output += 'A: '\n",
    "for i in p[0]:\n",
    "    matrix_output += f'{i} '\n",
    "matrix_output +='\\n'\n",
    "matrix_output += 'C: '\n",
    "for i in p[1]:\n",
    "    matrix_output += f'{i} '\n",
    "matrix_output +='\\n'\n",
    "matrix_output += 'G: '\n",
    "for i in p[2]:\n",
    "    matrix_output += f'{i} '\n",
    "matrix_output +='\\n'\n",
    "matrix_output += 'T: '\n",
    "for i in p[3]:\n",
    "    matrix_output += f'{i} '\n",
    "matrix_output +='\\n'"
   ]
  },
  {
   "cell_type": "code",
   "execution_count": 16,
   "id": "e8e3f7b7",
   "metadata": {},
   "outputs": [],
   "source": [
    "l = profile.argmax(0).tolist()[0]\n",
    "\n",
    "dct = {0: 'A',\n",
    "      1: 'C',\n",
    "      2: 'G',\n",
    "      3: 'T'}\n",
    "\n",
    "consensus = ''\n",
    "\n",
    "for n in l:\n",
    "    consensus += dct[n]"
   ]
  },
  {
   "cell_type": "code",
   "execution_count": 17,
   "id": "95462f23",
   "metadata": {},
   "outputs": [
    {
     "name": "stdout",
     "output_type": "stream",
     "text": [
      "ACCGAGAACTTAGGAGCCTGAAGTTGTTCACGATACGGGGACAACTAGGGGAAACTTTGATCCCCGGCCCACCGGTCAATTTGTCCGGCTAACTCTCGACAACAGTAGTCGCCCATATTGCAGTAATGAACACGCCAATCGCTTTTGGATACGGTAGTAATACCACCAGAGAGGCCGACCTCAACTCGGACCGTGAAAAATTCAATATGCAAAACGATACATAAGCAAGCAAGAGCCACAGGCAAAGCGCCACACCAGTCCTGAAAGGTTCCGAGGCAATTGATATAACAACCCGAAGAGCACGGGAAGATCCCCCACTAACCTCCTCATTCGTAAACGTCGGTCGACTATGATGCGATCCAAAAGAATCTCACCTCAGGCCATCCCACCCAACAACCTCATAGACACTCGACATGACATTGAAGCCTCGGATAAGATAGTACACACCATAAAATTGGTCTAAAACTCAAATCGCAGGCCAAACCCAAAAACGACGATACCGTGAACGCTTAGACGCCATAATACGACACAGGACGGTCGTGTTTTATTTACACAGCGCTAACGTACCTCCCCCCTCCGAAACGAACAAGCCTGGGACCGACCTCATATGGACAAATATTCGAGCGTAGCTTACAAACCTACGTACACTGCTGTGGGCGAAGTACGGGAGGACTCCCTTGCAGAGAATAGCAGAACAAATCGCTAAGACGAAGTCATGGCACAACACAAACACACGGGAGCGTGAGCAAGAGATTAGAGTAATATGTGCATGTCAGTAAATTCCCAGTTACAGCATGCCCCAACACAGCCTTCCAAATTAGTCAGGGCACAGCAGCTCCAAGTGTAGGAGGACTGGTGGCCACCCTGATCGATCATATAGAAATACTACCCCCGTAAAGTACCCACAATAACTACCGTAACA\n",
      "A: 3 1 2 2 3 0 3 6 2 2 0 5 2 2 4 3 3 1 3 2 5 3 1 1 1 2 0 2 2 3 0 3 3 2 4 2 2 2 1 0 4 2 3 4 3 2 3 1 3 3 0 5 3 5 2 2 2 1 2 6 2 2 2 3 2 2 2 2 2 2 3 1 3 3 3 1 0 4 3 3 2 4 3 3 2 3 0 2 2 1 3 4 3 3 2 1 2 2 4 2 4 3 2 4 2 1 6 2 1 2 3 0 0 0 3 2 8 2 2 2 1 4 2 3 4 3 2 1 3 5 1 3 1 1 1 0 4 4 0 2 2 3 2 1 2 1 2 1 5 2 3 2 2 3 2 4 3 2 3 4 0 3 2 2 5 2 3 3 2 5 0 6 1 0 1 1 0 5 2 2 1 2 4 4 2 2 1 2 3 4 2 2 2 1 2 4 4 3 3 4 2 2 0 4 3 2 4 2 2 2 3 4 3 4 2 2 4 1 3 0 4 1 4 4 3 2 4 7 2 2 3 3 1 4 2 1 2 5 2 3 1 1 2 3 3 4 0 1 2 2 2 3 2 5 3 1 4 1 3 1 2 0 3 4 4 6 2 3 3 2 3 2 3 3 3 3 2 4 4 0 2 3 5 3 3 2 3 4 1 4 4 1 2 1 2 3 6 2 5 1 2 3 2 0 2 1 3 5 1 4 2 1 1 2 0 2 6 2 2 3 3 3 1 3 2 3 3 1 5 3 1 1 1 3 3 3 5 0 2 2 2 2 3 1 0 2 5 2 3 4 3 1 3 1 4 0 1 4 2 1 1 4 4 3 3 2 4 3 3 2 2 2 5 2 1 3 1 3 3 2 1 4 4 0 2 2 2 3 1 3 3 3 4 3 4 3 2 1 2 1 5 2 4 2 4 3 3 1 1 1 2 3 2 4 1 3 6 2 3 2 2 2 4 4 0 1 3 1 1 2 0 4 1 3 4 3 3 2 4 2 2 4 2 5 2 4 1 2 8 1 3 4 3 4 1 2 2 2 3 3 1 3 4 4 4 2 2 2 4 4 3 1 1 2 2 5 3 1 2 0 5 3 5 3 1 1 3 4 3 3 4 1 1 4 2 3 4 1 3 2 0 3 1 1 3 4 2 1 1 1 2 4 2 3 3 2 3 2 3 3 4 4 2 3 2 1 3 1 3 3 4 2 2 4 1 2 1 2 2 3 3 1 0 1 2 3 4 2 1 3 3 1 3 1 4 2 2 2 2 3 4 4 1 2 3 4 2 3 2 2 3 2 3 3 2 0 1 2 2 3 4 5 2 2 3 4 3 5 5 1 1 1 1 3 3 1 4 1 3 2 3 1 2 0 2 4 2 4 1 1 3 5 1 4 4 3 3 5 2 2 2 1 3 2 1 2 3 3 2 0 1 1 4 2 4 4 3 1 2 2 5 1 2 1 4 1 5 1 1 0 1 3 1 4 2 1 1 1 1 3 4 2 0 4 3 0 1 0 3 3 0 3 0 3 1 1 2 2 1 2 1 4 3 6 2 3 4 0 4 2 1 3 1 4 3 3 3 4 3 3 0 1 1 1 4 3 2 4 1 3 3 4 2 1 1 5 1 2 3 2 3 1 4 4 0 3 3 5 5 5 2 3 0 4 2 2 0 1 5 3 2 2 1 3 3 0 0 3 4 1 4 1 4 3 2 4 3 4 1 3 3 5 2 7 4 0 1 2 3 4 1 2 3 2 4 2 2 4 5 5 2 2 1 1 1 6 3 1 2 3 1 6 3 2 4 2 2 4 2 2 2 3 3 2 3 4 4 1 3 2 2 0 2 2 4 4 5 3 2 4 2 2 1 4 2 3 2 2 4 2 4 2 2 3 3 2 2 2 2 5 5 2 3 3 2 3 2 2 3 2 2 4 3 1 3 2 3 2 1 2 2 3 1 3 3 2 2 5 0 1 0 4 0 2 4 2 3 2 3 2 3 5 4 3 5 0 3 3 2 2 0 3 2 2 2 3 3 7 1 2 5 2 2 2 3 2 4 4 0 5 4 3 3 4 2 1 1 2 4 4 2 4 \n",
      "C: 3 5 3 2 1 3 3 1 3 1 3 1 2 0 2 1 4 3 0 3 2 3 2 1 3 2 2 3 4 2 4 1 1 1 3 3 1 2 2 2 2 3 2 2 4 1 3 2 1 1 2 0 1 3 3 2 2 2 2 0 3 5 3 4 3 1 2 3 5 4 2 5 4 2 1 3 5 2 3 1 2 0 0 1 4 4 1 3 3 3 3 2 5 0 4 3 3 0 1 5 2 3 4 1 2 2 0 1 3 3 0 5 5 5 3 1 0 1 2 2 4 2 1 2 2 2 0 0 1 1 4 1 4 3 4 4 1 2 4 3 1 4 1 3 0 3 2 1 4 2 3 3 1 0 2 1 2 3 3 1 3 2 7 4 1 4 5 2 1 1 2 1 1 2 4 3 2 1 4 4 2 4 2 2 4 2 5 2 1 2 7 6 2 2 2 1 2 1 3 0 2 1 4 3 2 3 1 2 1 4 2 2 3 1 4 1 2 2 2 5 4 3 2 3 1 3 3 0 1 3 3 2 2 1 2 3 3 2 3 3 3 2 5 1 2 1 3 5 3 3 4 3 4 1 5 4 0 2 2 5 3 0 2 2 2 2 1 1 1 3 4 4 0 2 1 0 3 2 2 2 3 1 3 2 2 3 1 2 3 2 1 4 4 4 2 3 1 3 1 3 4 2 3 4 2 1 2 2 2 2 1 4 4 3 4 4 2 4 2 2 3 4 4 1 4 4 0 6 1 3 2 6 2 0 2 3 1 5 2 2 3 2 2 2 6 1 2 3 1 3 0 3 1 0 0 5 3 2 1 4 4 2 3 2 3 2 1 3 2 4 1 5 1 3 3 1 5 3 0 2 3 5 1 2 4 5 3 3 4 5 4 1 1 4 3 3 5 4 2 5 0 2 1 2 3 4 3 4 1 6 3 2 3 2 2 1 1 4 1 3 0 2 1 2 3 3 5 2 5 3 3 1 2 1 4 2 3 2 3 2 1 1 5 2 6 3 4 4 1 2 3 3 3 2 3 1 2 3 1 4 2 3 2 3 2 3 1 5 1 1 3 4 4 3 4 4 1 3 3 4 2 2 1 4 4 5 3 2 3 3 1 4 3 1 3 1 3 2 3 5 4 1 2 3 2 2 3 2 5 2 2 2 2 3 4 2 4 5 3 2 2 3 2 1 4 1 3 5 3 4 2 2 2 4 4 3 1 2 4 2 2 1 3 2 1 0 0 1 1 3 2 4 2 4 1 2 4 0 3 1 3 1 4 3 1 1 4 4 3 4 4 5 5 4 3 3 3 4 1 3 2 2 3 2 2 3 4 2 2 3 5 4 0 1 3 2 2 4 4 2 2 4 4 3 5 1 3 2 3 3 1 2 5 0 0 1 1 0 1 3 3 3 3 3 4 1 1 3 2 5 3 1 2 3 3 0 3 3 3 2 0 3 3 3 1 5 2 6 3 3 6 1 3 1 0 1 1 4 2 2 4 1 2 4 5 3 3 2 2 1 2 2 5 1 3 5 4 1 2 2 5 4 0 3 2 3 1 3 2 3 4 1 3 2 3 5 1 1 1 1 8 1 4 3 3 2 2 1 4 3 1 3 2 0 4 3 3 3 3 3 3 5 4 4 5 2 4 2 2 1 3 2 5 1 3 1 2 0 3 1 4 2 2 1 2 2 6 2 1 1 1 1 1 0 3 3 2 3 1 2 2 3 3 0 1 1 2 2 5 4 3 3 2 3 3 1 1 1 1 0 3 1 4 4 4 0 2 3 2 3 5 0 1 4 1 2 2 5 4 5 3 2 3 5 3 5 3 2 4 4 1 3 4 3 2 2 3 0 1 3 1 3 4 2 1 2 1 5 4 4 2 1 3 2 2 4 3 6 5 1 1 0 2 1 0 2 0 2 2 1 3 1 4 1 3 2 1 2 3 6 4 2 3 4 4 1 2 3 3 3 2 3 3 6 4 1 2 1 3 2 3 2 1 2 1 6 1 1 4 3 4 4 4 2 2 3 1 0 2 1 3 4 4 6 3 4 3 2 3 3 3 4 0 2 4 4 3 3 2 1 3 2 \n",
      "G: 2 4 2 4 3 5 1 1 2 3 3 3 4 6 2 4 2 3 3 5 0 1 5 3 1 5 2 1 2 3 3 5 3 1 2 2 4 3 5 5 2 2 2 2 2 3 2 4 5 4 4 3 3 2 2 2 2 3 3 3 1 2 2 1 3 4 3 2 2 3 3 3 0 4 4 2 3 0 3 2 2 1 5 1 3 1 7 4 2 0 1 0 2 2 0 1 2 5 1 2 2 1 3 4 5 3 0 4 1 3 4 4 2 4 3 3 1 3 1 4 3 3 6 1 3 3 3 7 3 1 2 3 3 4 2 2 2 3 1 3 4 1 3 2 2 2 6 4 0 1 3 3 6 4 1 2 4 1 2 2 2 2 0 2 0 2 0 3 5 2 5 2 6 5 4 3 4 3 1 2 3 2 2 1 1 2 4 3 4 1 1 2 3 3 3 3 1 3 2 3 2 3 4 1 3 1 3 1 4 1 2 4 2 2 2 4 2 2 3 5 1 2 3 0 6 2 3 3 5 2 2 2 5 2 3 3 2 0 2 2 6 5 3 3 3 2 5 0 4 3 1 2 1 0 0 3 2 5 1 3 2 3 4 2 1 2 5 4 1 1 2 1 6 2 5 5 3 0 3 2 1 5 2 1 2 1 3 1 3 1 1 1 4 2 3 2 2 4 3 4 0 2 2 5 5 5 2 1 4 3 3 2 3 2 4 1 0 4 2 3 2 1 3 1 3 2 3 2 3 0 2 3 5 3 2 1 3 3 4 2 2 3 4 2 3 4 1 2 1 2 3 4 3 4 5 4 4 0 3 2 4 3 0 2 2 3 3 2 1 1 3 3 1 2 3 2 3 3 4 3 3 1 4 3 3 2 3 2 2 2 3 3 1 0 1 3 1 3 2 2 4 2 4 3 1 0 3 2 0 0 4 3 3 1 3 4 1 2 3 0 2 3 4 4 5 3 2 2 2 4 4 2 2 3 1 4 2 2 2 3 2 3 0 3 1 2 3 2 1 2 3 2 2 4 1 1 5 4 2 1 3 2 2 2 1 3 2 2 1 2 3 0 3 5 2 0 4 4 2 3 2 2 1 2 2 1 2 2 1 3 3 2 4 2 3 4 2 3 3 0 3 6 3 4 2 1 3 5 3 3 2 1 3 2 3 4 1 1 3 1 2 2 2 3 2 4 2 3 1 1 1 4 4 1 4 5 5 1 2 4 1 5 2 3 2 2 3 1 2 0 3 3 3 2 3 3 4 5 3 2 0 3 2 5 2 1 3 2 1 3 1 3 2 3 3 1 3 3 5 1 4 1 3 4 2 1 0 1 2 4 2 4 4 4 4 5 1 4 2 5 3 4 1 3 1 1 0 0 2 4 4 1 2 4 3 3 2 3 3 1 3 4 2 4 3 4 2 2 5 0 1 3 2 3 2 4 2 3 3 1 2 3 4 2 2 1 2 2 2 4 1 2 4 0 5 5 4 2 4 3 0 4 3 1 1 4 4 4 3 4 5 3 3 2 3 3 1 3 3 3 1 1 5 0 4 2 1 3 1 4 1 3 4 2 2 1 3 3 3 0 1 4 3 1 3 3 4 2 3 4 3 2 3 3 3 1 2 4 4 3 1 1 0 1 4 2 2 1 3 1 2 3 1 2 2 4 5 6 1 4 1 4 3 4 3 7 1 3 3 4 2 6 4 3 1 2 4 1 6 1 2 2 1 1 0 5 3 3 2 2 2 4 0 3 1 4 0 3 2 3 1 2 3 3 2 2 4 2 2 3 1 0 4 3 1 2 5 1 4 3 2 2 1 0 1 1 1 4 1 1 1 2 0 3 2 4 1 2 2 3 4 1 2 2 5 4 5 1 1 2 1 4 3 2 4 3 1 1 2 3 0 7 0 6 2 2 4 5 2 4 4 2 0 2 4 3 2 4 5 2 4 3 3 2 2 2 4 0 3 3 6 2 3 1 1 1 2 2 1 3 2 2 3 1 1 2 1 3 2 2 4 2 3 3 1 3 3 1 4 3 2 0 1 2 1 4 1 4 2 0 2 1 3 2 2 4 4 0 1 2 2 2 \n",
      "T: 2 0 3 2 3 2 3 2 3 4 4 1 2 2 2 2 1 3 4 0 3 3 2 5 5 1 6 4 2 2 3 1 3 6 1 3 3 3 2 3 2 3 3 2 1 4 2 3 1 2 4 2 3 0 3 4 4 4 3 1 4 1 3 2 2 3 3 3 1 1 2 1 3 1 2 4 2 4 1 4 4 5 2 5 1 2 2 1 3 6 3 4 0 5 4 5 3 3 4 1 2 3 1 1 1 4 4 3 5 2 3 1 3 1 1 4 1 4 5 2 2 1 1 4 1 2 5 2 3 3 3 3 2 2 3 4 3 1 5 2 3 2 4 4 6 4 0 4 1 5 1 2 1 3 5 3 1 4 2 3 5 3 1 2 4 2 2 2 2 2 3 1 2 3 1 3 4 1 3 2 4 2 2 3 3 4 0 3 2 3 0 0 3 4 3 2 3 3 2 3 4 4 2 2 2 4 2 5 3 3 3 0 2 3 2 3 2 5 2 0 1 4 1 3 0 3 0 0 2 3 2 3 2 3 3 3 3 3 3 2 0 2 0 3 2 3 2 4 1 2 3 2 3 4 2 2 4 2 4 1 3 7 1 2 3 0 2 2 5 4 1 3 1 3 1 2 2 4 1 6 4 1 0 4 3 4 3 3 3 3 4 4 0 3 3 2 1 1 1 2 4 3 3 1 1 3 3 2 3 1 4 3 2 3 2 3 2 0 4 2 2 2 2 5 1 1 4 1 1 4 5 0 2 4 3 3 1 2 2 4 3 3 1 5 1 3 2 3 5 1 4 2 3 5 1 1 2 4 4 3 1 1 3 3 2 3 2 2 4 3 4 0 3 3 3 4 1 1 3 3 3 0 1 5 1 1 2 2 3 0 0 3 4 3 2 1 2 2 4 2 1 4 1 3 2 3 1 3 8 3 1 2 2 3 4 2 2 2 3 5 6 3 1 0 2 3 0 5 2 1 3 3 5 3 1 1 2 4 1 3 5 2 3 0 1 1 2 2 0 5 1 1 2 0 5 6 1 1 4 2 4 2 2 1 3 2 5 1 4 3 1 5 2 0 2 1 2 2 3 3 1 3 3 1 3 3 2 2 3 1 2 3 2 3 2 2 1 4 1 3 3 0 4 2 3 3 2 2 1 4 4 3 3 2 0 2 2 2 1 4 2 1 4 3 2 4 2 1 3 2 3 2 2 1 1 0 3 5 2 1 4 3 5 4 5 5 3 6 6 4 2 2 2 3 2 3 0 3 2 4 3 2 3 0 4 4 1 1 4 1 2 0 0 0 2 6 3 1 2 3 0 2 2 2 3 2 3 2 1 2 2 1 5 2 0 2 3 1 1 1 2 1 3 4 2 4 5 4 4 2 2 2 2 2 3 3 4 2 4 4 2 2 2 1 2 3 4 2 1 5 5 5 2 2 1 2 2 3 2 5 3 3 1 4 3 3 1 1 4 3 2 4 2 5 3 3 4 3 3 2 2 3 5 1 1 3 2 4 2 2 3 2 2 4 3 1 3 4 4 3 3 1 2 1 2 2 4 4 3 1 4 3 2 2 2 1 3 2 3 6 1 4 2 5 0 2 2 3 2 0 3 1 3 6 2 1 4 1 0 2 3 3 2 1 1 3 1 2 0 3 3 2 4 3 3 3 3 3 1 2 3 2 4 2 2 1 3 2 2 4 3 2 1 4 4 1 1 2 2 4 3 0 4 2 5 4 4 3 0 0 4 1 5 2 2 3 7 2 2 2 4 5 2 2 3 2 1 4 4 1 3 4 2 1 4 4 1 0 0 0 3 3 3 3 3 0 2 3 2 3 6 5 4 2 2 0 1 5 5 0 3 4 3 2 2 1 2 2 1 2 3 3 2 3 1 1 4 1 1 1 4 1 5 0 6 3 4 1 3 3 1 3 3 6 0 3 4 2 1 0 0 2 3 1 1 5 2 2 4 3 2 1 4 1 1 6 3 5 3 3 2 1 2 4 3 2 5 3 2 3 2 1 1 3 5 1 3 2 3 4 0 4 3 0 3 0 2 0 5 2 1 2 4 2 2 1 2 5 3 3 3 2 \n",
      "\n"
     ]
    }
   ],
   "source": [
    "print(consensus)\n",
    "print(matrix_output)"
   ]
  }
 ],
 "metadata": {
  "kernelspec": {
   "display_name": "Python 3.9.13 ('bioinf')",
   "language": "python",
   "name": "python3"
  },
  "language_info": {
   "codemirror_mode": {
    "name": "ipython",
    "version": 3
   },
   "file_extension": ".py",
   "mimetype": "text/x-python",
   "name": "python",
   "nbconvert_exporter": "python",
   "pygments_lexer": "ipython3",
   "version": "3.9.13"
  },
  "orig_nbformat": 4,
  "vscode": {
   "interpreter": {
    "hash": "1dd1fcb168a3c82fb0ecad65683ec68e4a29d18ee1840fd225e0dcf303417cd9"
   }
  }
 },
 "nbformat": 4,
 "nbformat_minor": 2
}
