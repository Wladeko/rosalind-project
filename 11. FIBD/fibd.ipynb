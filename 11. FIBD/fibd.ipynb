{
 "cells": [
  {
   "cell_type": "code",
   "execution_count": 18,
   "metadata": {},
   "outputs": [],
   "source": [
    "import queue\n",
    "\n",
    "\n",
    "def mfib(n, m):\n",
    "    young = 1\n",
    "    adult = 0\n",
    "\n",
    "    mortal = queue.SimpleQueue()\n",
    "    for i in range(m-1):\n",
    "        mortal.put(0)\n",
    "    mortal.put(1)\n",
    "\n",
    "    for i in range(n-1):\n",
    "        pom = young\n",
    "        dying = mortal.get()\n",
    "        mortal.put(adult)\n",
    "        young = adult\n",
    "        adult += pom\n",
    "        adult -= dying\n",
    "        # print(i+2, dying, adult, young)\n",
    "\n",
    "    return young + adult\n",
    "\n"
   ]
  },
  {
   "cell_type": "code",
   "execution_count": 20,
   "metadata": {},
   "outputs": [
    {
     "data": {
      "text/plain": [
       "7513165195107624104"
      ]
     },
     "execution_count": 20,
     "metadata": {},
     "output_type": "execute_result"
    }
   ],
   "source": [
    "mfib(92, 19)"
   ]
  },
  {
   "cell_type": "code",
   "execution_count": null,
   "metadata": {},
   "outputs": [],
   "source": []
  }
 ],
 "metadata": {
  "kernelspec": {
   "display_name": "Python 3.9.13 ('bioinf')",
   "language": "python",
   "name": "python3"
  },
  "language_info": {
   "codemirror_mode": {
    "name": "ipython",
    "version": 3
   },
   "file_extension": ".py",
   "mimetype": "text/x-python",
   "name": "python",
   "nbconvert_exporter": "python",
   "pygments_lexer": "ipython3",
   "version": "3.9.13"
  },
  "orig_nbformat": 4,
  "vscode": {
   "interpreter": {
    "hash": "1dd1fcb168a3c82fb0ecad65683ec68e4a29d18ee1840fd225e0dcf303417cd9"
   }
  }
 },
 "nbformat": 4,
 "nbformat_minor": 2
}
