{
 "cells": [
  {
   "cell_type": "code",
   "execution_count": null,
   "id": "f11fcc8e",
   "metadata": {},
   "outputs": [],
   "source": [
    "s = 'GATGGAACTTGACTACGTAAATT'"
   ]
  },
  {
   "cell_type": "code",
   "execution_count": 1,
   "id": "f707f15c",
   "metadata": {},
   "outputs": [],
   "source": [
    "with open('rosalind_rna.txt') as f:\n",
    "    s = f.read()"
   ]
  },
  {
   "cell_type": "code",
   "execution_count": 2,
   "id": "38f28b15",
   "metadata": {},
   "outputs": [],
   "source": [
    "new = s.replace('T', 'U')"
   ]
  },
  {
   "cell_type": "code",
   "execution_count": 3,
   "id": "fa5e036e",
   "metadata": {},
   "outputs": [
    {
     "name": "stdout",
     "output_type": "stream",
     "text": [
      "AGAUGUAUUAAUGGCAUUAUGGCGCUAUUAAAAGUCGCAGGGAGGGCCAUCGAUAUAUCUCCAUCCGACUUGGUAUUAUCAGAACUUUUAUCCCCAUGUAUCGUCGGAAGACUGCUGGUUGCGGCCGGUGCACCCCGCCCGCAGUGUGAAUGUUAUCCGUGCCUGUGUACGCCAGCCCUGCCCACCGUCCCUUAAAAAAGGCUUGAGGCCUUCUACGAUUGUUGGCUUACUAGUAUGCGCUAGUCCUCGACCCAACAAUAUUGUGGACCCGAUACAUAUCGCGAAACUGCGAUUCUAAGCGGACUUAAGUUUAGCAUUACUGGCCGCUGAUGGUAGCUGAUUUUUCCUUGAGGGAUAAGUUGUAACCACGUUUCUUGAAGAUUCUGGUGCCCCAAAAUUUGGAGUGUCACCUGGACUCUCAGGAAGAGUCACGAUACACCGUAUUCACUAAAGCGACUAUCUCGUGGAGGUUUUUGAACUUUCACUGGUACGCUGUUCAUAAGGGUCGGUUUUAUUCACGCUAAGCUACCGAGCGUACACUAUCGAGGGUCUUUCGCAGCCCAACACAUAUGCAAAAACGCAUCAUCGGGCACCAGUUAAUCUCCUUAUGUCGAGCUUCAUUAAAUGUUCACUCUACAAGGCCCAGCGAGUUACGAAAACGAUUAUGCAGCAUAUAAUGACGCGUGGUGUUUAUAACCUCGUCUCUAUGGACUAUUGCCGUCUGAUAAUUGGAGGUUCUACUAGGAUACAUUUACACUGCAUGGACAAUUGACAGCAUAUAAGCAAAGUCUAUGGCUGAAGCGUAUACGGCGCUACUGAUUGGUUGCCGACCCUUCUUCACAUCUCCUUAAACUCACUAGGUAGGACAACCUACAUUGCGGGGAUCCCGUUGCUAAGUGUACCCGGGUAUUGCAGACGCCGUGGUCUUCAGCACCCCUUCCGCCCCCGGGGUGUGCGACGUGGUCUCGGUUCGUAUGAUUGCAAGAUCACGUAAG\n",
      "\n"
     ]
    }
   ],
   "source": [
    "print(new)"
   ]
  },
  {
   "cell_type": "code",
   "execution_count": null,
   "metadata": {},
   "outputs": [],
   "source": []
  }
 ],
 "metadata": {
  "kernelspec": {
   "display_name": "Python 3.9.13",
   "language": "python",
   "name": "python3"
  },
  "language_info": {
   "codemirror_mode": {
    "name": "ipython",
    "version": 3
   },
   "file_extension": ".py",
   "mimetype": "text/x-python",
   "name": "python",
   "nbconvert_exporter": "python",
   "pygments_lexer": "ipython3",
   "version": "3.9.13"
  },
  "orig_nbformat": 4,
  "vscode": {
   "interpreter": {
    "hash": "145f34df3c76d6a58c5346557c8bdca357f259ed9307cb331494ac2cc96642be"
   }
  }
 },
 "nbformat": 4,
 "nbformat_minor": 2
}
