{
 "cells": [
  {
   "cell_type": "code",
   "execution_count": 23,
   "metadata": {},
   "outputs": [],
   "source": [
    "def fasta_reader(path: str):\n",
    "    with open(path) as f:\n",
    "        s_list = f.read().replace(\"\\n\", \"\").split(\">\")[1:]\n",
    "\n",
    "    dna_dict = {}\n",
    "\n",
    "    for s in s_list:\n",
    "        label = s[:13]\n",
    "        seq = s[13:]\n",
    "        dna_dict[label] = seq\n",
    "\n",
    "    return dna_dict\n",
    "\n",
    "def LongComSubS(st1, st2):\n",
    "  ans = 0;\n",
    "  s = ''\n",
    "  for a in range(len(st1)):\n",
    "         for b in range(len(st2)):\n",
    "            k = 0;\n",
    "            while ((a + k) < len(st1) and (b + k) < len(st2) and st1[a + k] == st2[b + k]):\n",
    "                k = k + 1;\n",
    "\n",
    "            if k > ans:\n",
    "                s = st1[a:a+k]\n",
    "                ans = k\n",
    "            \n",
    "  return s;\n"
   ]
  },
  {
   "cell_type": "code",
   "execution_count": 24,
   "metadata": {},
   "outputs": [
    {
     "data": {
      "text/plain": [
       "'ACTTAAATCTCACACTGCGCCGCCCAAGGG'"
      ]
     },
     "execution_count": 24,
     "metadata": {},
     "output_type": "execute_result"
    }
   ],
   "source": [
    "dna = fasta_reader('rosalind_lcsm.txt')\n",
    "\n",
    "list_dna = list(dna.values())\n",
    "\n",
    "subs = []\n",
    "for i in list_dna:\n",
    "    s = LongComSubS(list_dna[0], i)\n",
    "    subs.append(s)\n",
    "\n",
    "subs.sort(key=len, reverse=True)\n",
    "subs = subs[1:]\n",
    "\n",
    "ans = ''\n",
    "for i in subs:\n",
    "    for j in list_dna:\n",
    "        if i not in j:\n",
    "            break\n",
    "    ans = i\n",
    "\n",
    "ans\n",
    "    "
   ]
  },
  {
   "cell_type": "code",
   "execution_count": null,
   "metadata": {},
   "outputs": [],
   "source": []
  }
 ],
 "metadata": {
  "kernelspec": {
   "display_name": "Python 3.9.13 ('bioinf')",
   "language": "python",
   "name": "python3"
  },
  "language_info": {
   "codemirror_mode": {
    "name": "ipython",
    "version": 3
   },
   "file_extension": ".py",
   "mimetype": "text/x-python",
   "name": "python",
   "nbconvert_exporter": "python",
   "pygments_lexer": "ipython3",
   "version": "3.9.13"
  },
  "orig_nbformat": 4,
  "vscode": {
   "interpreter": {
    "hash": "1dd1fcb168a3c82fb0ecad65683ec68e4a29d18ee1840fd225e0dcf303417cd9"
   }
  }
 },
 "nbformat": 4,
 "nbformat_minor": 2
}
