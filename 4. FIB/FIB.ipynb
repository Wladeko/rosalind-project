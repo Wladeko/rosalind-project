{
 "cells": [
  {
   "cell_type": "code",
   "execution_count": 7,
   "metadata": {},
   "outputs": [],
   "source": [
    "def fib(n, k):\n",
    "    adult = 1\n",
    "    young = 0\n",
    "    for i in range(n-2):\n",
    "        pom = young\n",
    "        young = adult * k\n",
    "        adult += pom\n",
    "        # print(f'{i+2}. A:{adult} Y:{young} S:{adult + young}')\n",
    "    return adult + young"
   ]
  },
  {
   "cell_type": "code",
   "execution_count": 1,
   "metadata": {},
   "outputs": [],
   "source": [
    "def fib_rec(n, k):\n",
    "    if n == 1 or n == 2:\n",
    "        return 1\n",
    "    return fib_rec(n-1, k) + 3 * fib_rec(n-2, k)"
   ]
  },
  {
   "cell_type": "code",
   "execution_count": 25,
   "metadata": {},
   "outputs": [],
   "source": [
    "with open('rosalind_fib.txt') as f:\n",
    "    s = f.read().replace('\\n', '')\n",
    "n, k = s.split(' ')"
   ]
  },
  {
   "cell_type": "code",
   "execution_count": 11,
   "metadata": {},
   "outputs": [
    {
     "name": "stdout",
     "output_type": "stream",
     "text": [
      "CPU times: user 10 µs, sys: 0 ns, total: 10 µs\n",
      "Wall time: 12.9 µs\n"
     ]
    },
    {
     "data": {
      "text/plain": [
       "249650241628"
      ]
     },
     "execution_count": 11,
     "metadata": {},
     "output_type": "execute_result"
    }
   ],
   "source": [
    "%%time\n",
    "fib(33, 3)"
   ]
  },
  {
   "cell_type": "code",
   "execution_count": 12,
   "metadata": {},
   "outputs": [
    {
     "name": "stdout",
     "output_type": "stream",
     "text": [
      "CPU times: user 812 ms, sys: 0 ns, total: 812 ms\n",
      "Wall time: 814 ms\n"
     ]
    },
    {
     "data": {
      "text/plain": [
       "249650241628"
      ]
     },
     "execution_count": 12,
     "metadata": {},
     "output_type": "execute_result"
    }
   ],
   "source": [
    "%%time\n",
    "fib_rec(33, 3)"
   ]
  }
 ],
 "metadata": {
  "kernelspec": {
   "display_name": "Python 3.9.13 ('bioinf')",
   "language": "python",
   "name": "python3"
  },
  "language_info": {
   "codemirror_mode": {
    "name": "ipython",
    "version": 3
   },
   "file_extension": ".py",
   "mimetype": "text/x-python",
   "name": "python",
   "nbconvert_exporter": "python",
   "pygments_lexer": "ipython3",
   "version": "3.9.13"
  },
  "orig_nbformat": 4,
  "vscode": {
   "interpreter": {
    "hash": "1dd1fcb168a3c82fb0ecad65683ec68e4a29d18ee1840fd225e0dcf303417cd9"
   }
  }
 },
 "nbformat": 4,
 "nbformat_minor": 2
}
