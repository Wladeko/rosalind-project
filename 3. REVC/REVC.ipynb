{
 "cells": [
  {
   "cell_type": "code",
   "execution_count": 1,
   "id": "4c066363",
   "metadata": {},
   "outputs": [],
   "source": [
    "s = 'AAAACCCGGT'"
   ]
  },
  {
   "cell_type": "code",
   "execution_count": 6,
   "id": "43feac58",
   "metadata": {},
   "outputs": [],
   "source": [
    "with open('rosalind_revc.txt') as f:\n",
    "    s = f.read().replace('\\n', '')"
   ]
  },
  {
   "cell_type": "code",
   "execution_count": 7,
   "id": "96fa70fb",
   "metadata": {},
   "outputs": [],
   "source": [
    "comp = {'A': 'T',\n",
    "       'T': 'A',\n",
    "       'G': 'C',\n",
    "       'C': 'G'}"
   ]
  },
  {
   "cell_type": "code",
   "execution_count": 8,
   "id": "a83564d6",
   "metadata": {},
   "outputs": [],
   "source": [
    "rev = s[::-1]"
   ]
  },
  {
   "cell_type": "code",
   "execution_count": 9,
   "id": "c25407bd",
   "metadata": {},
   "outputs": [],
   "source": [
    "rev_comp = ''.join([comp[l] for l in rev])"
   ]
  },
  {
   "cell_type": "code",
   "execution_count": 10,
   "id": "98997977",
   "metadata": {},
   "outputs": [
    {
     "name": "stdout",
     "output_type": "stream",
     "text": [
      "GTTTGCCCACTAGCCGCGTGGTATATATGCGCTCGACGCATCGCTAGCGTCAACCACGTTTACTTTCAGATAATACGACGACAGAGTTTTTTACGCGGGGCATCAGCGACTATGCTCGCCGCCGGGCCTGGGTTGAGGACGGCTCTAACCATTACGATCCCTATGGGTCCCCTGCTGTACCAACGCCAACCGGGAAAATGACGGTCCCTTGCTAGGTTCTACGAAGGTTTGTGGCGTCAAAACCACTCGCACCACCGGCAGTTTATCGAGCCTTAGCGATGTGAGACTAGGATGTCGTGGGGCGGGTTTCCGAAAACTGCGAGGGTATCGACCCTTGGCTGATTAGTAACAACGGGCTCATTCGCTAGAGTCACAACAAAATGCGATCACAATCGGGACGAAATGCCGATGTAGGGTGGGAGAGGCACTAACCATTGAACGGCCTCGTTTGCCGGATACCGTAGTTATCCTTTATTTGGATTCGAGGGCGGCACGTAAGCACAGGCACACCTAATCTTCGGAATAACGCAAGGATCCTCTGCCAATAATGTGCATTACAAGGAGTAGGAGGAAATCACATAAGCATGTTTGCATATTAGGGATATTGGACCGGTGGATAACGTCCTTTCGTCCGAATAATCCGCGACTCCCCCGCGACAGTTATTTCTATGGCCGCTGGACTCAATCGAGTAAGGTAATACTAATTACCCATGAGCTTGTCCGGATAGCATATACATGACTTGCCGTAACACCTGCACGAGGGTAAATAGAGAAACTGCACTGCCTAGTTTTGTACGTGGCCGCGCTGATACACCGTTAGTGTTCATCTAGAGGAGCAAACTTATAACGTATCGCCGT\n"
     ]
    }
   ],
   "source": [
    "print(rev_comp)"
   ]
  },
  {
   "cell_type": "code",
   "execution_count": null,
   "metadata": {},
   "outputs": [],
   "source": []
  }
 ],
 "metadata": {
  "kernelspec": {
   "display_name": "Python 3.9.13 ('bioinf')",
   "language": "python",
   "name": "python3"
  },
  "language_info": {
   "codemirror_mode": {
    "name": "ipython",
    "version": 3
   },
   "file_extension": ".py",
   "mimetype": "text/x-python",
   "name": "python",
   "nbconvert_exporter": "python",
   "pygments_lexer": "ipython3",
   "version": "3.9.13"
  },
  "orig_nbformat": 4,
  "vscode": {
   "interpreter": {
    "hash": "1dd1fcb168a3c82fb0ecad65683ec68e4a29d18ee1840fd225e0dcf303417cd9"
   }
  }
 },
 "nbformat": 4,
 "nbformat_minor": 2
}
