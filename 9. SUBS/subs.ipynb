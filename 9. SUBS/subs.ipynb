{
 "cells": [
  {
   "cell_type": "code",
   "execution_count": 23,
   "metadata": {},
   "outputs": [],
   "source": [
    "with open('rosalind_subs.txt') as f:\n",
    "    s = f.read().split('\\n')\n",
    "\n",
    "dna = s[0]\n",
    "pattern = s[1]"
   ]
  },
  {
   "cell_type": "code",
   "execution_count": 24,
   "metadata": {},
   "outputs": [],
   "source": [
    "a = []\n",
    "cut = 0\n",
    "last = 0\n",
    "while last >= 0:\n",
    "    last = dna.find(pattern)\n",
    "    if last != -1:\n",
    "        a.append(str(last + cut + 1))\n",
    "    dna = dna[last + 1:]\n",
    "    cut += last + 1\n"
   ]
  },
  {
   "cell_type": "code",
   "execution_count": 25,
   "metadata": {},
   "outputs": [
    {
     "data": {
      "text/plain": [
       "'19 61 70 110 137 144 178 185 192 227 234 260 267 287 303 319 326 333 378 407 423 490 505 520 610 634 641 648 655 672 692 709 716 728 735 742 768 783 876 883 890 913 959 977 984'"
      ]
     },
     "execution_count": 25,
     "metadata": {},
     "output_type": "execute_result"
    }
   ],
   "source": [
    "ans = ' '.join(a)\n",
    "ans"
   ]
  }
 ],
 "metadata": {
  "kernelspec": {
   "display_name": "Python 3.9.13 ('bioinf')",
   "language": "python",
   "name": "python3"
  },
  "language_info": {
   "codemirror_mode": {
    "name": "ipython",
    "version": 3
   },
   "file_extension": ".py",
   "mimetype": "text/x-python",
   "name": "python",
   "nbconvert_exporter": "python",
   "pygments_lexer": "ipython3",
   "version": "3.9.13"
  },
  "orig_nbformat": 4,
  "vscode": {
   "interpreter": {
    "hash": "1dd1fcb168a3c82fb0ecad65683ec68e4a29d18ee1840fd225e0dcf303417cd9"
   }
  }
 },
 "nbformat": 4,
 "nbformat_minor": 2
}
