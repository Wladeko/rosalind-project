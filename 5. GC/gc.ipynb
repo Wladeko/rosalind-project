{
 "cells": [
  {
   "cell_type": "code",
   "execution_count": 6,
   "metadata": {},
   "outputs": [],
   "source": [
    "def fasta_reader(path: str):\n",
    "    with open(path) as f:\n",
    "        s_list = f.read().replace(\"\\n\", \"\").split(\">\")[1:]\n",
    "\n",
    "    dna_dict = {}\n",
    "\n",
    "    for s in s_list:\n",
    "        label = s[:13]\n",
    "        seq = s[13:]\n",
    "        dna_dict[label] = seq\n",
    "\n",
    "    return dna_dict\n",
    "\n",
    "def gc_content(s):\n",
    "    g = s.count('G')\n",
    "    c = s.count('C')\n",
    "    return (g+c)/len(s)*100"
   ]
  },
  {
   "cell_type": "code",
   "execution_count": 10,
   "metadata": {},
   "outputs": [
    {
     "name": "stdout",
     "output_type": "stream",
     "text": [
      "Rosalind_7313\n",
      "51.42207053469852\n"
     ]
    }
   ],
   "source": [
    "dna = fasta_reader('rosalind_gc.txt')\n",
    "\n",
    "max = 0\n",
    "max_label = ''\n",
    "\n",
    "for k, v in dna.items():\n",
    "    gc = gc_content(v)\n",
    "    if gc > max:\n",
    "        max = gc\n",
    "        max_label = k\n",
    "\n",
    "print(max_label)\n",
    "print(max)"
   ]
  },
  {
   "cell_type": "code",
   "execution_count": null,
   "metadata": {},
   "outputs": [],
   "source": []
  }
 ],
 "metadata": {
  "kernelspec": {
   "display_name": "Python 3.9.12 ('base')",
   "language": "python",
   "name": "python3"
  },
  "language_info": {
   "codemirror_mode": {
    "name": "ipython",
    "version": 3
   },
   "file_extension": ".py",
   "mimetype": "text/x-python",
   "name": "python",
   "nbconvert_exporter": "python",
   "pygments_lexer": "ipython3",
   "version": "3.9.12"
  },
  "orig_nbformat": 4,
  "vscode": {
   "interpreter": {
    "hash": "134ba60aecde4943500a2e6b5e340d04dd9ecffd7cab121f62547fa0fcbba5db"
   }
  }
 },
 "nbformat": 4,
 "nbformat_minor": 2
}
